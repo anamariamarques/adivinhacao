{
 "cells": [
  {
   "cell_type": "markdown",
   "id": "b6d86c92",
   "metadata": {},
   "source": [
    "teste 1 "
   ]
  },
  {
   "cell_type": "code",
   "execution_count": 2,
   "id": "575622cb",
   "metadata": {},
   "outputs": [
    {
     "name": "stdout",
     "output_type": "stream",
     "text": [
      "*********************************\n",
      "Bem vindo ao jogo de Adivinhação!\n",
      "*********************************\n",
      "Você digitou:  10\n",
      "Você errou! O seu chute foi menor que o número secreto.\n"
     ]
    }
   ],
   "source": [
    "print(\"*********************************\")\n",
    "print(\"Bem vindo ao jogo de Adivinhação!\")\n",
    "print(\"*********************************\")\n",
    "\n",
    "numero_secreto = 42\n",
    "\n",
    "chute_str = input(\"Digite o seu número: \")\n",
    "print(\"Você digitou: \", chute_str)\n",
    "chute = int(chute_str)\n",
    "\n",
    "acertou = chute == numero_secreto\n",
    "maior = chute > numero_secreto\n",
    "menor = chute < numero_secreto\n",
    "\n",
    "if (acertou):\n",
    "    print(\"Você acertou!\")\n",
    "else:\n",
    "    if (maior):\n",
    "        print(\"Você errou! O seu chute foi maior que o número secreto.\")\n",
    "    elif (menor):\n",
    "        print(\"Você errou! O seu chute foi menor que o número secreto.\")"
   ]
  },
  {
   "cell_type": "code",
   "execution_count": null,
   "id": "2f6c20e0",
   "metadata": {},
   "outputs": [],
   "source": []
  }
 ],
 "metadata": {
  "kernelspec": {
   "display_name": "Python 3.7.8 64-bit",
   "language": "python",
   "name": "python3"
  },
  "language_info": {
   "codemirror_mode": {
    "name": "ipython",
    "version": 3
   },
   "file_extension": ".py",
   "mimetype": "text/x-python",
   "name": "python",
   "nbconvert_exporter": "python",
   "pygments_lexer": "ipython3",
   "version": "3.7.8"
  },
  "vscode": {
   "interpreter": {
    "hash": "0a54084e6b208ee8d1ce3989ffc20924477a5f55f5a43e22e699a6741623861e"
   }
  }
 },
 "nbformat": 4,
 "nbformat_minor": 5
}
